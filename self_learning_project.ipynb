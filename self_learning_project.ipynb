{
 "cells": [
  {
   "cell_type": "code",
   "execution_count": null,
   "metadata": {},
   "outputs": [
    {
     "data": {
      "text/html": [
       "<div>\n",
       "<style scoped>\n",
       "    .dataframe tbody tr th:only-of-type {\n",
       "        vertical-align: middle;\n",
       "    }\n",
       "\n",
       "    .dataframe tbody tr th {\n",
       "        vertical-align: top;\n",
       "    }\n",
       "\n",
       "    .dataframe thead th {\n",
       "        text-align: right;\n",
       "    }\n",
       "</style>\n",
       "<table border=\"1\" class=\"dataframe\">\n",
       "  <thead>\n",
       "    <tr style=\"text-align: right;\">\n",
       "      <th></th>\n",
       "      <th>age</th>\n",
       "      <th>sex</th>\n",
       "      <th>bmi</th>\n",
       "      <th>children</th>\n",
       "      <th>smoker</th>\n",
       "      <th>region</th>\n",
       "      <th>charges</th>\n",
       "    </tr>\n",
       "  </thead>\n",
       "  <tbody>\n",
       "    <tr>\n",
       "      <th>0</th>\n",
       "      <td>19</td>\n",
       "      <td>female</td>\n",
       "      <td>27.900</td>\n",
       "      <td>0</td>\n",
       "      <td>yes</td>\n",
       "      <td>southwest</td>\n",
       "      <td>16884.92400</td>\n",
       "    </tr>\n",
       "    <tr>\n",
       "      <th>1</th>\n",
       "      <td>18</td>\n",
       "      <td>male</td>\n",
       "      <td>33.770</td>\n",
       "      <td>1</td>\n",
       "      <td>no</td>\n",
       "      <td>southeast</td>\n",
       "      <td>1725.55230</td>\n",
       "    </tr>\n",
       "    <tr>\n",
       "      <th>2</th>\n",
       "      <td>28</td>\n",
       "      <td>male</td>\n",
       "      <td>33.000</td>\n",
       "      <td>3</td>\n",
       "      <td>no</td>\n",
       "      <td>southeast</td>\n",
       "      <td>4449.46200</td>\n",
       "    </tr>\n",
       "    <tr>\n",
       "      <th>3</th>\n",
       "      <td>33</td>\n",
       "      <td>male</td>\n",
       "      <td>22.705</td>\n",
       "      <td>0</td>\n",
       "      <td>no</td>\n",
       "      <td>northwest</td>\n",
       "      <td>21984.47061</td>\n",
       "    </tr>\n",
       "    <tr>\n",
       "      <th>4</th>\n",
       "      <td>32</td>\n",
       "      <td>male</td>\n",
       "      <td>28.880</td>\n",
       "      <td>0</td>\n",
       "      <td>no</td>\n",
       "      <td>northwest</td>\n",
       "      <td>3866.85520</td>\n",
       "    </tr>\n",
       "  </tbody>\n",
       "</table>\n",
       "</div>"
      ],
      "text/plain": [
       "   age     sex     bmi  children smoker     region      charges\n",
       "0   19  female  27.900         0    yes  southwest  16884.92400\n",
       "1   18    male  33.770         1     no  southeast   1725.55230\n",
       "2   28    male  33.000         3     no  southeast   4449.46200\n",
       "3   33    male  22.705         0     no  northwest  21984.47061\n",
       "4   32    male  28.880         0     no  northwest   3866.85520"
      ]
     },
     "execution_count": 21,
     "metadata": {},
     "output_type": "execute_result"
    }
   ],
   "source": [
    "import pandas as pd\n",
    "import numpy as np\n",
    "\n",
    "# Access the insurance csv file, accessed from https://www.kaggle.com/datasets/willianoliveiragibin/healthcare-insurance\n",
    "insurance_df = pd.read_csv('insurance.csv')\n",
    "insurance_df.head()"
   ]
  },
  {
   "cell_type": "code",
   "execution_count": 22,
   "metadata": {},
   "outputs": [
    {
     "name": "stdout",
     "output_type": "stream",
     "text": [
      "Minimum value for 'age' column: 18\n",
      "Maximum value for 'age' column: 64\n",
      "Minimum value for 'bmi' column: 15.96\n",
      "Maximum value for 'bmi' column: 53.13\n",
      "Minimum value for 'children' column: 0\n",
      "Maximum value for 'children' column: 5\n",
      "Minimum value for 'charges' column: 1121.8739\n",
      "Maximum value for 'charges' column: 63770.42801\n",
      "-----------------\n",
      "Unique values (2) for 'sex' column: \n",
      "['female' 'male']\n",
      "Unique values (2) for 'smoker' column: \n",
      "['yes' 'no']\n",
      "Unique values (4) for 'region' column: \n",
      "['southwest' 'southeast' 'northwest' 'northeast']\n"
     ]
    }
   ],
   "source": [
    "# Find minimum and maximum values for all continuous columns... are there any outliers?\n",
    "print(\"Minimum value for 'age' column: \" + str(insurance_df['age'].min()) + \n",
    "      \"\\nMaximum value for 'age' column: \" + str(insurance_df['age'].max()) +\n",
    "      \"\\nMinimum value for 'bmi' column: \" + str(insurance_df['bmi'].min()) + \n",
    "      \"\\nMaximum value for 'bmi' column: \" + str(insurance_df['bmi'].max()) +\n",
    "      \"\\nMinimum value for 'children' column: \" + str(insurance_df['children'].min()) + \n",
    "      \"\\nMaximum value for 'children' column: \" + str(insurance_df['children'].max()) +      \n",
    "      \"\\nMinimum value for 'charges' column: \" + str(insurance_df['charges'].min()) + \n",
    "      \"\\nMaximum value for 'charges' column: \" + str(insurance_df['charges'].max()))\n",
    "\n",
    "print(\"-----------------\")\n",
    "# Find # of unique values for each categorical column.\n",
    "print(\"Unique values (\" + str(len(insurance_df['sex'].unique())) + \") for 'sex' column: \\n\" + str(insurance_df['sex'].unique()))\n",
    "print(\"Unique values (\" + str(len(insurance_df['smoker'].unique())) + \") for 'smoker' column: \\n\" + str(insurance_df['smoker'].unique()))\n",
    "print(\"Unique values (\" + str(len(insurance_df['region'].unique())) + \") for 'region' column: \\n\" + str(insurance_df['region'].unique()))"
   ]
  },
  {
   "cell_type": "code",
   "execution_count": null,
   "metadata": {},
   "outputs": [
    {
     "name": "stdout",
     "output_type": "stream",
     "text": [
      "0    19\n",
      "1    18\n",
      "2    28\n",
      "3    33\n",
      "4    32\n",
      "Name: age, dtype: int64\n",
      "0   -1.438764\n",
      "1   -1.509965\n",
      "2   -0.797954\n",
      "3   -0.441948\n",
      "4   -0.513149\n",
      "Name: age, dtype: float64\n"
     ]
    }
   ],
   "source": [
    "from sklearn.preprocessing import StandardScaler\n",
    "\n",
    "# Standardize all the continuous data received to have a mean of 0 and a standard deviation of 1. \n",
    "standard_scaler = StandardScaler()\n",
    "\n",
    "#Saving all means and standard deviations for later\n",
    "\n",
    "scaled_df = insurance_df.copy()\n",
    "print(scaled_df['age'].head())\n",
    "scaled_df['age'] = standard_scaler.fit_transform(scaled_df[['age']])\n",
    "\n",
    "print(scaled_df['age'].head())\n",
    "\n",
    "scaled_df['bmi'] = standard_scaler.fit_transform(scaled_df[['bmi']])\n",
    "scaled_df['children'] = standard_scaler.fit_transform(scaled_df[['children']])"
   ]
  },
  {
   "cell_type": "code",
   "execution_count": 46,
   "metadata": {},
   "outputs": [
    {
     "name": "stdout",
     "output_type": "stream",
     "text": [
      "First row: \n",
      "         age     sex      bmi  children smoker     region    charges\n",
      "0 -1.438764  female -0.45332 -0.908614    yes  southwest  16884.924\n",
      "\n",
      "\n",
      "\n",
      "New first row: \n",
      "         age      bmi  children    charges  region_northwest  region_southeast   \n",
      "0 -1.438764 -0.45332 -0.908614  16884.924                 0                 0  \\\n",
      "\n",
      "   region_southwest  sex_male  smoker_yes  \n",
      "0                 1         0           1  \n"
     ]
    }
   ],
   "source": [
    "# Encode the categorical columns by creating a new column for each unique category in each categorical column. \n",
    "# If the row has that specific category, the new column should have a 1 in that category, and a 0 in the others.\n",
    "print(\"First row: \\n\", str(scaled_df.head(1)))\n",
    "\n",
    "encoded_df = scaled_df.copy()\n",
    "encoded_df = pd.get_dummies(data=encoded_df, columns=['region'], drop_first=True)\n",
    "# Drop first drops the first newly created column. This is because if the rest of the new columns' values are 0,\n",
    "# it implies that the category is the one that isn't present. This saves computation.\n",
    "\n",
    "# Convert to 0s and 1s rather than True or False\n",
    "encoded_df[['region_southwest', 'region_northwest', 'region_southeast']] = encoded_df[['region_southwest', 'region_northwest', 'region_southeast']].astype(int)\n",
    "\n",
    "encoded_df = pd.get_dummies(data=encoded_df, columns=['sex', 'smoker'], drop_first=True)\n",
    "\n",
    "encoded_df[['sex_male', 'smoker_yes']] = encoded_df[['sex_male', 'smoker_yes']].astype(int)\n",
    "print(\"\\n\\n\\nNew first row: \\n\", str(encoded_df.head(1)))"
   ]
  },
  {
   "cell_type": "code",
   "execution_count": null,
   "metadata": {},
   "outputs": [],
   "source": [
    "from sklearn.model_selection import train_test_split\n",
    "\n",
    "# Drop the target column from the dataset, and set that target column to be the y value.\n",
    "X = encoded_df.drop(columns=['charges'])\n",
    "y = encoded_df['charges']\n",
    "X\n",
    "\n",
    "\n",
    "# Split the X and y data into 2 sets, a training set and a testing set.\n",
    "# In this case, we'll use a test size of 0.2, so the testing set has 20% of the total data entries.\n",
    "X_train, X_test, y_train, y_test = train_test_split(X, y, test_size=0.2, random_state=42)"
   ]
  },
  {
   "cell_type": "code",
   "execution_count": 62,
   "metadata": {},
   "outputs": [
    {
     "name": "stdout",
     "output_type": "stream",
     "text": [
      "Error of Linear Regression: 4181.194473753652\n",
      "Error of Random Forest Regression: 2538.100750875908\n",
      "Error of Gradient Boosting Regression: 2444.001275820506\n"
     ]
    }
   ],
   "source": [
    "from sklearn.linear_model import LinearRegression\n",
    "from sklearn.ensemble import RandomForestRegressor, GradientBoostingRegressor\n",
    "from sklearn.metrics import mean_absolute_error\n",
    "\n",
    "\n",
    "# Using 3 different models to test the quality of the prediction. LinearRegression, RandomForestRegressor, and GradientBoostingRegressor.\n",
    "# For all models, we will be using the loss function of root mean squared error (RMSE) \n",
    "\n",
    "lr_model = LinearRegression()\n",
    "rfr_model = RandomForestRegressor(max_depth=5)\n",
    "gbr_model = GradientBoostingRegressor()\n",
    "\n",
    "models = [lr_model, rfr_model, gbr_model]\n",
    "y_preds = []\n",
    "errors = []\n",
    "for model in models:\n",
    "    #Fit the model to the training data and the labels (charge)\n",
    "    model.fit(X_train, y_train)\n",
    "    #Predict what the charges will be, given X_test\n",
    "    y_pred = model.predict(X_test)\n",
    "    #Find the error between the predicted charge (y_pred) and actual charge (y_test) \n",
    "    error = mean_absolute_error(y_test, y_pred)\n",
    "    errors.append(error)\n",
    "    y_preds.append(y_pred)\n",
    "\n",
    "print(\"Error of Linear Regression: \" + str(errors[0]))\n",
    "print(\"Error of Random Forest Regression: \" + str(errors[1]))\n",
    "print(\"Error of Gradient Boosting Regression: \" + str(errors[2]))"
   ]
  },
  {
   "cell_type": "code",
   "execution_count": null,
   "metadata": {},
   "outputs": [],
   "source": []
  }
 ],
 "metadata": {
  "kernelspec": {
   "display_name": "Python 3",
   "language": "python",
   "name": "python3"
  },
  "language_info": {
   "codemirror_mode": {
    "name": "ipython",
    "version": 3
   },
   "file_extension": ".py",
   "mimetype": "text/x-python",
   "name": "python",
   "nbconvert_exporter": "python",
   "pygments_lexer": "ipython3",
   "version": "3.11.2"
  }
 },
 "nbformat": 4,
 "nbformat_minor": 2
}
